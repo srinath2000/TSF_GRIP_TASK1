{
  "nbformat": 4,
  "nbformat_minor": 0,
  "metadata": {
    "colab": {
      "name": "Srinath_sol1_GRIP.ipynb",
      "provenance": [],
      "collapsed_sections": []
    },
    "kernelspec": {
      "name": "python3",
      "display_name": "Python 3"
    }
  },
  "cells": [
    {
      "cell_type": "markdown",
      "metadata": {
        "id": "GzfdMfk10NE6"
      },
      "source":[
        "GRIPJULY21-TASK1-PREDICTION USING SUPERVISED ML \n",
        "Name: SRINATH RAJAN  \n",
        "Email:srinathrajan2036@gmail.com"
        ]
    },
      
    {
      "cell_type": "markdown",
      "metadata": {
        "id": "X6A8Hm86UUZ-"
      },
      
    {
      "cell_type": "code",
      "metadata": {
        "id": "V9QN2ZxC38pB"
      },
      "source": [
        "# Importing all libraries required in this notebook\n",
        "import pandas as pd\n",
        "import numpy as np  \n",
        "import matplotlib.pyplot as plt  \n",
        "%matplotlib inline"
      ],
      "execution_count": 105,
      "outputs": []
    },
    {
      "cell_type": "code",
      "metadata": {
        "id": "LtU4YMEhqm9m",
        "colab": {
          "base_uri": "https://localhost:8080/",
          "height": 374
        },
        "outputId": "f718e46e-e2b1-4fea-a143-5a89b6d01e42"
      },
      "source": [
        "# Reading data from remote link\n",
        "url = \"http://bit.ly/w-data\"\n",
        "s_data = pd.read_csv(url)\n",
        "print(\"Data imported successfully\")\n",
        "\n",
        "s_data.head(10)"
      ],
      "execution_count": 106,
      "outputs": [
        {
          "output_type": "stream",
          "text": [
            "Data imported successfully\n"
          ],
          "name": "stdout"
        },
        {
          "output_type": "execute_result",
          "data": {
            "text/html": [
              "<div>\n",
              "<style scoped>\n",
              "    .dataframe tbody tr th:only-of-type {\n",
              "        vertical-align: middle;\n",
              "    }\n",
              "\n",
              "    .dataframe tbody tr th {\n",
              "        vertical-align: top;\n",
              "    }\n",
              "\n",
              "    .dataframe thead th {\n",
              "        text-align: right;\n",
              "    }\n",
              "</style>\n",
              "<table border=\"1\" class=\"dataframe\">\n",
              "  <thead>\n",
              "    <tr style=\"text-align: right;\">\n",
              "      <th></th>\n",
              "      <th>Hours</th>\n",
              "      <th>Scores</th>\n",
              "    </tr>\n",
              "  </thead>\n",
              "  <tbody>\n",
              "    <tr>\n",
              "      <th>0</th>\n",
              "      <td>2.5</td>\n",
              "      <td>21</td>\n",
              "    </tr>\n",
              "    <tr>\n",
              "      <th>1</th>\n",
              "      <td>5.1</td>\n",
              "      <td>47</td>\n",
              "    </tr>\n",
              "    <tr>\n",
              "      <th>2</th>\n",
              "      <td>3.2</td>\n",
              "      <td>27</td>\n",
              "    </tr>\n",
              "    <tr>\n",
              "      <th>3</th>\n",
              "      <td>8.5</td>\n",
              "      <td>75</td>\n",
              "    </tr>\n",
              "    <tr>\n",
              "      <th>4</th>\n",
              "      <td>3.5</td>\n",
              "      <td>30</td>\n",
              "    </tr>\n",
              "    <tr>\n",
              "      <th>5</th>\n",
              "      <td>1.5</td>\n",
              "      <td>20</td>\n",
              "    </tr>\n",
              "    <tr>\n",
              "      <th>6</th>\n",
              "      <td>9.2</td>\n",
              "      <td>88</td>\n",
              "    </tr>\n",
              "    <tr>\n",
              "      <th>7</th>\n",
              "      <td>5.5</td>\n",
              "      <td>60</td>\n",
              "    </tr>\n",
              "    <tr>\n",
              "      <th>8</th>\n",
              "      <td>8.3</td>\n",
              "      <td>81</td>\n",
              "    </tr>\n",
              "    <tr>\n",
              "      <th>9</th>\n",
              "      <td>2.7</td>\n",
              "      <td>25</td>\n",
              "    </tr>\n",
              "  </tbody>\n",
              "</table>\n",
              "</div>"
            ],
            "text/plain": [
              "   Hours  Scores\n",
              "0    2.5      21\n",
              "1    5.1      47\n",
              "2    3.2      27\n",
              "3    8.5      75\n",
              "4    3.5      30\n",
              "5    1.5      20\n",
              "6    9.2      88\n",
              "7    5.5      60\n",
              "8    8.3      81\n",
              "9    2.7      25"
            ]
          },
          "metadata": {
            "tags": []
          },
          "execution_count": 106
        }
      ]
    },
    {
      "cell_type": "markdown",
      "metadata": {
        "id": "RHsPneuM4NgB"
      },
      "source": [
        "Let's plot our data points on 2-D graph to eyeball our dataset and see if we can manually find any relationship between the data. We can create the plot with the following script:"
      ]
    },
    {
      "cell_type": "code",
      "metadata": {
        "id": "qxYBZkhAqpn9",
        "colab": {
          "base_uri": "https://localhost:8080/",
          "height": 295
        },
        "outputId": "e44ff586-809a-4d65-ddbc-8dfc945eceae"
      },
      "source": [
        "# Plotting the distribution of scores\n",
        "s_data.plot(x='Hours', y='Scores', style='o')  \n",
        "plt.title('Hours vs Percentage')  \n",
        "plt.xlabel('Hours Studied')  \n",
        "plt.ylabel('Percentage Score')  \n",
        "plt.show()"
      ],
      "execution_count": 107,
      "outputs": [
        {
          "output_type": "display_data",
          "data": {
            "image/png": "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\n",
            "text/plain": [
              "<Figure size 432x288 with 1 Axes>"
            ]
          },
          "metadata": {
            "tags": [],
            "needs_background": "light"
          }
        }
      ]
    },
    {
      "cell_type": "markdown",
      "metadata": {
        "id": "fiQaULio4Rzr"
      },
      "source": [
        "**From the graph above, we can clearly see that there is a positive linear relation between the number of hours studied and percentage of score.**"
      ]
    },
    {
      "cell_type": "markdown",
      "metadata": {
        "id": "WWtEr64M4jdz"
      },
      "source": [
        "### **Preparing the data**\n",
        "\n",
        "The next step is to divide the data into \"attributes\" (inputs) and \"labels\" (outputs)."
      ]
    },
    {
      "cell_type": "code",
      "metadata": {
        "id": "LiJ5210e4tNX"
      },
      "source": [
        "X = s_data.iloc[:, :-1].values  \n",
        "y = s_data.iloc[:, 1].values  "
      ],
      "execution_count": 108,
      "outputs": []
    },
    {
      "cell_type": "markdown",
      "metadata": {
        "id": "Riz-ZiZ34fO4"
      },
      "source": [
        "Now that we have our attributes and labels, the next step is to split this data into training and test sets. We'll do this by using Scikit-Learn's built-in train_test_split() method:"
      ]
    },
    {
      "cell_type": "code",
      "metadata": {
        "id": "udFYso1M4BNw"
      },
      "source": [
        "from sklearn.model_selection import train_test_split  \n",
        "X_train, X_test, y_train, y_test = train_test_split(X, y, \n",
        "                            test_size=0.2, random_state=6) "
      ],
      "execution_count": 109,
      "outputs": []
    },
    {
      "cell_type": "markdown",
      "metadata": {
        "id": "a6WXptFU5CkC"
      },
      "source": [
        "### **Training the Algorithm**\n",
        "We have split our data into training and testing sets, and now is finally the time to train our algorithm. "
      ]
    },
    {
      "cell_type": "code",
      "metadata": {
        "id": "qddCuaS84fpK",
        "colab": {
          "base_uri": "https://localhost:8080/"
        },
        "outputId": "81214d79-72ef-434f-a4c9-38d7be49070b"
      },
      "source": [
        "from sklearn.linear_model import LinearRegression  \n",
        "model = LinearRegression()  \n",
        "model.fit(X_train, y_train) \n",
        "\n",
        "print(\"Training complete.\")"
      ],
      "execution_count": 110,
      "outputs": [
        {
          "output_type": "stream",
          "text": [
            "Training complete.\n"
          ],
          "name": "stdout"
        }
      ]
    },
    {
      "cell_type": "code",
      "metadata": {
        "id": "J61NX2_2-px7",
        "colab": {
          "base_uri": "https://localhost:8080/",
          "height": 265
        },
        "outputId": "af81d473-bb51-4b93-dac1-1923ece16efa"
      },
      "source": [
        "# Plotting the regression line\n",
        "line = model.coef_*X+model.intercept_\n",
        "\n",
        "# Plotting for the test data\n",
        "plt.scatter(X, y)\n",
        "plt.plot(X, line);\n",
        "plt.show()"
      ],
      "execution_count": 111,
      "outputs": [
        {
          "output_type": "display_data",
          "data": {
            "image/png": "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\n",
            "text/plain": [
              "<Figure size 432x288 with 1 Axes>"
            ]
          },
          "metadata": {
            "tags": [],
            "needs_background": "light"
          }
        }
      ]
    },
    {
      "cell_type": "markdown",
      "metadata": {
        "id": "JCQn-g4m5OK2"
      },
      "source": [
        "### **Making Predictions**\n",
        "Now that we have trained our algorithm, it's time to make some predictions."
      ]
    },
    {
      "cell_type": "code",
      "metadata": {
        "id": "Tt-Fmzu55EGM",
        "colab": {
          "base_uri": "https://localhost:8080/"
        },
        "outputId": "f65dcb90-c9d4-463c-d75f-c31746d0f065"
      },
      "source": [
        "print(X_test) # Testing data - In Hours\n",
        "y_pred = model.predict(X_test) # Predicting the scores"
      ],
      "execution_count": 112,
      "outputs": [
        {
          "output_type": "stream",
          "text": [
            "[[3.8]\n",
            " [5.5]\n",
            " [1.5]\n",
            " [9.2]\n",
            " [8.3]]\n"
          ],
          "name": "stdout"
        }
      ]
    },
    {
      "cell_type": "code",
      "metadata": {
        "id": "6bmZUMZh5QLb",
        "colab": {
          "base_uri": "https://localhost:8080/",
          "height": 203
        },
        "outputId": "a3879318-d981-41c7-f54d-e9ddbceee483"
      },
      "source": [
        "# Comparing Actual vs Predicted\n",
        "df = pd.DataFrame({'Actual': y_test, 'Predicted': y_pred})  \n",
        "df "
      ],
      "execution_count": 113,
      "outputs": [
        {
          "output_type": "execute_result",
          "data": {
            "text/html": [
              "<div>\n",
              "<style scoped>\n",
              "    .dataframe tbody tr th:only-of-type {\n",
              "        vertical-align: middle;\n",
              "    }\n",
              "\n",
              "    .dataframe tbody tr th {\n",
              "        vertical-align: top;\n",
              "    }\n",
              "\n",
              "    .dataframe thead th {\n",
              "        text-align: right;\n",
              "    }\n",
              "</style>\n",
              "<table border=\"1\" class=\"dataframe\">\n",
              "  <thead>\n",
              "    <tr style=\"text-align: right;\">\n",
              "      <th></th>\n",
              "      <th>Actual</th>\n",
              "      <th>Predicted</th>\n",
              "    </tr>\n",
              "  </thead>\n",
              "  <tbody>\n",
              "    <tr>\n",
              "      <th>0</th>\n",
              "      <td>35</td>\n",
              "      <td>39.594215</td>\n",
              "    </tr>\n",
              "    <tr>\n",
              "      <th>1</th>\n",
              "      <td>60</td>\n",
              "      <td>56.684534</td>\n",
              "    </tr>\n",
              "    <tr>\n",
              "      <th>2</th>\n",
              "      <td>20</td>\n",
              "      <td>16.472019</td>\n",
              "    </tr>\n",
              "    <tr>\n",
              "      <th>3</th>\n",
              "      <td>88</td>\n",
              "      <td>93.881110</td>\n",
              "    </tr>\n",
              "    <tr>\n",
              "      <th>4</th>\n",
              "      <td>81</td>\n",
              "      <td>84.833294</td>\n",
              "    </tr>\n",
              "  </tbody>\n",
              "</table>\n",
              "</div>"
            ],
            "text/plain": [
              "   Actual  Predicted\n",
              "0      35  39.594215\n",
              "1      60  56.684534\n",
              "2      20  16.472019\n",
              "3      88  93.881110\n",
              "4      81  84.833294"
            ]
          },
          "metadata": {
            "tags": []
          },
          "execution_count": 113
        }
      ]
    },
    {
      "cell_type": "code",
      "metadata": {
        "id": "KAFO8zbx-AH1",
        "colab": {
          "base_uri": "https://localhost:8080/"
        },
        "outputId": "4396af71-9b64-47c2-d0f7-76c4630d721e"
      },
      "source": [
        "# You can also test with your own data\n",
        "hours = 9.25\n",
        "own_pred = model.predict([[hours]])\n",
        "print(\"No of Hours = {}\".format(hours))\n",
        "print(\"Predicted Score = {}\".format(own_pred[0]))"
      ],
      "execution_count": 114,
      "outputs": [
        {
          "output_type": "stream",
          "text": [
            "No of Hours = 9.25\n",
            "Predicted Score = 94.38376623376621\n"
          ],
          "name": "stdout"
        }
      ]
    },
    {
      "cell_type": "markdown",
      "metadata": {
        "id": "0AAsPVA_6KmK"
      },
      "source": [
        "### **Evaluating the model**\n",
        "\n",
        "The final step is to evaluate the performance of algorithm. This step is particularly important to compare how well different algorithms perform on a particular dataset. For simplicity here, we have chosen the mean square error. There are many such metrics."
      ]
    },
    {
      "cell_type": "code",
      "metadata": {
        "id": "r5UOrRH-5VCQ",
        "colab": {
          "base_uri": "https://localhost:8080/"
        },
        "outputId": "036fc1df-4367-4b1d-9239-2e509d31e424"
      },
      "source": [
        "from sklearn import metrics  \n",
        "print('Mean Absolute Error:', \n",
        "      metrics.mean_absolute_error(y_test, y_pred)) "
      ],
      "execution_count": 115,
      "outputs": [
        {
          "output_type": "stream",
          "text": [
            "Mean Absolute Error: 4.2304132231404825\n"
          ],
          "name": "stdout"
        }
      ]
    }
  ]
}
